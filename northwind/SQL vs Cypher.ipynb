{
 "cells": [
  {
   "cell_type": "markdown",
   "id": "ed458c4e-92b0-4e13-a9fb-1fc04445dd2a",
   "metadata": {},
   "source": [
    "# Customer-product dataset\n",
    "\n",
    "Here we show how querying a customer-product type of dataset may be easier with a graph data model vs tabular data model. [Inspiration](https://neo4j.com/developer/cypher/guide-sql-to-cypher/#cypher-sql-northwind)\n",
    "\n",
    "### Tabular data model\n",
    "\n",
    "![](assets/product-category-supplier.png)\n",
    "\n",
    "### Graph data model\n",
    "\n",
    "![](assets/product-graph.png)\n",
    "\n",
    "## 0. Preliminaries\n",
    "\n",
    "- SQL: use Northwind loaded in at [DB Fiddle](https://www.db-fiddle.com/f/ki1ztAsMywXbkU8hjEH4Rc/0) with PostgreSQL ([source](https://docs.yugabyte.com/preview/sample-data/northwind/))\n",
    "- Neo4j: load Northwind using the [guide](https://guides.neo4j.com/northwind/index.html); data are provided in `northwind/data`"
   ]
  },
  {
   "cell_type": "markdown",
   "id": "d91acf2a-717f-45cd-bcc8-d4f2ebd37677",
   "metadata": {},
   "source": [
    "## 1. What category is each product in?\n",
    "\n",
    "**SQL**\n",
    "\n",
    "```sql\n",
    "SELECT p.product_name, c.category_name \n",
    "FROM products as p\n",
    "JOIN categories as c\n",
    "ON c.category_id = p.category_id\n",
    "ORDER BY p.product_name LIMIT 10;\n",
    "```\n",
    "\n",
    "**Cypher**\n",
    "\n",
    "```cypher\n",
    "MATCH (p:Product) -[:PART_OF]-> (c:Category)\n",
    "RETURN p.productName, c.categoryName ORDER BY p.productName LIMIT 10\n",
    "```\n",
    "\n",
    "Result:\n",
    "\n",
    "| product_name                 | category_name  |\n",
    "| ---------------------------- | -------------- |\n",
    "| Alice Mutton                 | Meat/Poultry   |\n",
    "| Aniseed Syrup                | Condiments     |\n",
    "| Boston Crab Meat             | Seafood        |\n",
    "| Camembert Pierrot            | Dairy Products |\n",
    "| Carnarvon Tigers             | Seafood        |\n",
    "| Chai                         | Beverages      |\n",
    "| Chang                        | Beverages      |\n",
    "| Chartreuse verte             | Beverages      |\n",
    "| Chef Anton's Cajun Seasoning | Condiments     |\n",
    "| Chef Anton's Gumbo Mix       | Condiments     |\n"
   ]
  },
  {
   "cell_type": "markdown",
   "id": "21d6574b-cb37-481e-a02c-f9fe45f5d4ec",
   "metadata": {},
   "source": [
    "## 2. Which categories does each supplier supply?\n",
    "\n",
    "**SQL**\n",
    "\n",
    "```sql\n",
    "SELECT s.company_name, string_agg(DISTINCT c.category_name, ', ') AS Categories\n",
    "FROM products as p\n",
    "JOIN categories as c ON c.category_id = p.category_id\n",
    "JOIN suppliers as s ON s.supplier_id = p.supplier_id\n",
    "GROUP BY s.company_name \n",
    "ORDER BY s.company_name LIMIT 10;\n",
    "```\n",
    "\n",
    "**Cypher**\n",
    "```cypher\n",
    "MATCH (s:Supplier)-->(p:Product)-->(c:Category)\n",
    "RETURN s.companyName, collect(DISTINCT c.categoryName) as Categories \n",
    "ORDER BY s.companyName LIMIT 10\n",
    "```\n",
    "\n",
    "Result:\n",
    "\n",
    "| company_name                       | categories                            |\n",
    "| ---------------------------------- | ------------------------------------- |\n",
    "| Aux joyeux ecclésiastiques         | Beverages                             |\n",
    "| Bigfoot Breweries                  | Beverages                             |\n",
    "| Cooperativa de Quesos 'Las Cabras' | Dairy Products                        |\n",
    "| Escargots Nouveaux                 | Seafood                               |\n",
    "| Exotic Liquids                     | Beverages, Condiments                 |\n",
    "| Formaggi Fortini s.r.l.            | Dairy Products                        |\n",
    "| Forêts d'érables                   | Condiments, Confections               |\n",
    "| G'day, Mate                        | Grains/Cereals, Meat/Poultry, Produce |\n",
    "| Gai pâturage                       | Dairy Products                        |\n",
    "| Grandma Kelly's Homestead          | Condiments, Produce                   |"
   ]
  },
  {
   "cell_type": "markdown",
   "id": "7fc9d173-601b-4a4d-8dd0-7f9490ef3e1f",
   "metadata": {},
   "source": [
    "## 3. Further visualisation\n",
    "\n",
    "Introducing `Order` table"
   ]
  },
  {
   "cell_type": "markdown",
   "id": "43493c4d-d448-401b-8401-3594d64fe5a1",
   "metadata": {},
   "source": [
    "```cypher\n",
    "MATCH (p:Product)<-[:ORDERS]-(o:Order)<-[:PURCHASED]-(c:Customer)\n",
    "RETURN p, o, c LIMIT 50\n",
    "```\n",
    "\n",
    "![](assets/sample.png)"
   ]
  },
  {
   "cell_type": "markdown",
   "id": "973b2925-10d1-49e5-83f1-0d54c5c0215f",
   "metadata": {},
   "source": [
    "```cypher\n",
    "MATCH (p:Product)<-[:ORDERS]-(o:Order)<-[:PURCHASED]-(c:Customer)\n",
    "RETURN p, o, c LIMIT 200\n",
    "```\n",
    "\n",
    "![](assets/sample_200.png)"
   ]
  }
 ],
 "metadata": {
  "kernelspec": {
   "display_name": "Python 3 (ipykernel)",
   "language": "python",
   "name": "python3"
  },
  "language_info": {
   "codemirror_mode": {
    "name": "ipython",
    "version": 3
   },
   "file_extension": ".py",
   "mimetype": "text/x-python",
   "name": "python",
   "nbconvert_exporter": "python",
   "pygments_lexer": "ipython3",
   "version": "3.10.9"
  }
 },
 "nbformat": 4,
 "nbformat_minor": 5
}
