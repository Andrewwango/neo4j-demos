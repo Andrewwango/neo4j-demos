{
 "cells": [
  {
   "cell_type": "markdown",
   "id": "a95a265a-dc9a-4e0f-9658-c4b020a68f7f",
   "metadata": {},
   "source": [
    "# Cora dataset 02 - tabular classification\n",
    "\n",
    "### Feature selection\n",
    "\n",
    "In a traditional ML system, we use features of each sample independently of other nodes to classify. We cannot easily model each paper's citations in a tabular data format. \n",
    "\n",
    "We could construct aggregate numerical features such as how many times each paper cites another paper in a particular category. However this loses information about the spatial structure of the graph. It is hard to randomly split into train-test whilst preventing data leakage. \n",
    "\n",
    "Therefore we will only use text classification for the Cora dataset."
   ]
  },
  {
   "cell_type": "markdown",
   "id": "5082d8c4-a1ec-4951-b960-c571d8078a4d",
   "metadata": {},
   "source": [
    "## 0. Preliminaries\n",
    "\n",
    "Run [01 - EDA](01%20-%20EDA.ipynb) notebook first to import dataset.\n",
    "\n",
    "## 1. Export nodes from DB"
   ]
  },
  {
   "cell_type": "code",
   "execution_count": 1,
   "id": "c9303375-7d83-4d49-a673-1efec7b9133a",
   "metadata": {},
   "outputs": [
    {
     "name": "stdin",
     "output_type": "stream",
     "text": [
      "Password: ········\n"
     ]
    }
   ],
   "source": [
    "from getpass import getpass\n",
    "from graphdatascience import GraphDataScience\n",
    "auth = (\"neo4j\", getpass(\"Password:\"))\n",
    "bolt = \"bolt://localhost:7687/neo4j\"\n",
    "gds = GraphDataScience(bolt, auth=auth)"
   ]
  },
  {
   "cell_type": "code",
   "execution_count": 2,
   "id": "2a300ea6-526d-4ef8-890a-4693af3a8e5f",
   "metadata": {},
   "outputs": [],
   "source": [
    "import pandas as pd"
   ]
  },
  {
   "cell_type": "code",
   "execution_count": 4,
   "id": "c2236500-dcd2-4072-8999-360cd5718b2e",
   "metadata": {},
   "outputs": [],
   "source": [
    "df = pd.DataFrame.from_dict(gds.run_cypher(\"\"\"\n",
    "MATCH (n) WHERE n.features IS NOT NULL\n",
    "RETURN DISTINCT n.paper_Id as id, n.subjectClass AS class, n.features AS features\n",
    "\"\"\"))"
   ]
  },
  {
   "cell_type": "markdown",
   "id": "e05cfe42-6051-4130-aed2-b711a8535505",
   "metadata": {},
   "source": [
    "## 2. Train Random Forest classifier"
   ]
  },
  {
   "cell_type": "code",
   "execution_count": 13,
   "id": "878b7d31-b1f7-41c3-92f7-acb88c5dd2f9",
   "metadata": {},
   "outputs": [],
   "source": [
    "X = df[\"features\"].apply(pd.Series).to_numpy()\n",
    "y = df[\"class\"].to_numpy()"
   ]
  },
  {
   "cell_type": "code",
   "execution_count": 17,
   "id": "e576f9b3-d89f-47b3-9dc5-4eef6fb8b257",
   "metadata": {},
   "outputs": [],
   "source": [
    "import numpy as np\n",
    "from sklearn.model_selection import train_test_split\n",
    "from hpsklearn import HyperoptEstimator, random_forest_classifier"
   ]
  },
  {
   "cell_type": "code",
   "execution_count": 25,
   "id": "030dba52-06d7-400b-aff1-4d9a7243cea5",
   "metadata": {},
   "outputs": [],
   "source": [
    "X_train, X_test, y_train, y_test = train_test_split(X, y, random_state=0)"
   ]
  },
  {
   "cell_type": "code",
   "execution_count": 26,
   "id": "bb375f20-4f86-4094-9664-d0d7e71159ef",
   "metadata": {},
   "outputs": [],
   "source": [
    "clf = HyperoptEstimator(classifier=random_forest_classifier(\"myclf\"), trial_timeout=10)"
   ]
  },
  {
   "cell_type": "code",
   "execution_count": 27,
   "id": "1289bbe6-1200-4727-b70b-99c2812c9b46",
   "metadata": {},
   "outputs": [
    {
     "name": "stdout",
     "output_type": "stream",
     "text": [
      "100%|█████████████| 1/1 [00:08<00:00,  8.02s/trial, best loss: 0.6904176904176904]\n",
      "100%|█████████████| 2/2 [00:12<00:00, 12.35s/trial, best loss: 0.6904176904176904]\n",
      "100%|█████████████| 3/3 [00:11<00:00, 11.70s/trial, best loss: 0.6904176904176904]\n",
      "100%|█████████████| 4/4 [00:04<00:00,  4.52s/trial, best loss: 0.3906633906633906]\n",
      "100%|█████████████| 5/5 [00:01<00:00,  1.88s/trial, best loss: 0.3906633906633906]\n",
      "100%|█████████████| 6/6 [00:05<00:00,  5.38s/trial, best loss: 0.3587223587223587]\n",
      "100%|█████████████| 7/7 [00:11<00:00, 11.57s/trial, best loss: 0.3587223587223587]\n",
      "100%|█████████████| 8/8 [00:02<00:00,  2.17s/trial, best loss: 0.3587223587223587]\n",
      "100%|█████████████| 9/9 [00:11<00:00, 11.87s/trial, best loss: 0.3587223587223587]\n",
      "100%|███████████| 10/10 [00:03<00:00,  3.93s/trial, best loss: 0.3587223587223587]\n"
     ]
    }
   ],
   "source": [
    "clf.fit(X_train, y_train)"
   ]
  },
  {
   "cell_type": "code",
   "execution_count": 24,
   "id": "51632751-d42f-486d-94a9-a45134e673ae",
   "metadata": {},
   "outputs": [
    {
     "data": {
      "text/plain": [
       "0.6691285081240768"
      ]
     },
     "execution_count": 24,
     "metadata": {},
     "output_type": "execute_result"
    }
   ],
   "source": [
    "#RF, no PCA\n",
    "clf.score(X_test, y_test)"
   ]
  }
 ],
 "metadata": {
  "kernelspec": {
   "display_name": "Python 3 (ipykernel)",
   "language": "python",
   "name": "python3"
  },
  "language_info": {
   "codemirror_mode": {
    "name": "ipython",
    "version": 3
   },
   "file_extension": ".py",
   "mimetype": "text/x-python",
   "name": "python",
   "nbconvert_exporter": "python",
   "pygments_lexer": "ipython3",
   "version": "3.10.9"
  }
 },
 "nbformat": 4,
 "nbformat_minor": 5
}
