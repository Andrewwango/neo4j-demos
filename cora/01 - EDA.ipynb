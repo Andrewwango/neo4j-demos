{
 "cells": [
  {
   "cell_type": "markdown",
   "id": "04515f85-4d7d-40f8-8574-8907d14973dd",
   "metadata": {},
   "source": [
    "# CORA dataset 01 - data loading and EDA"
   ]
  },
  {
   "cell_type": "markdown",
   "id": "ed0bfc72-176e-4bef-b7d4-e8315e489efb",
   "metadata": {},
   "source": [
    "**Problem statement**: classify dataset of academic papers into categories. Papers have text and citations. This problem is a classic graph data modelling problem. We will see that it's difficult to model this data with traditional methods.\n",
    "\n",
    "We will use the Cora dataset, \"the MNIST of graph land.\" `n=2708` academic papers categorized into seven classes (“Theory,” “Reinforcement learning,” “Probabilistic methods, etc.)\n",
    "\n",
    "Features:\n",
    "- **Text**: 1433-dimension vector per sample representing words in the paper text (BoW).\n",
    "- **Citations**: citations to other papers in the dataset (5429 total citations)."
   ]
  },
  {
   "cell_type": "markdown",
   "id": "54eab50e-5ba8-4425-a71c-ea3e89240e66",
   "metadata": {},
   "source": [
    "## 0. Preliminaries\n",
    "\n",
    "Following [tutorial](https://neo4j.com/blog/machine-learning-innovation-predictive-analysis/).\n",
    "\n",
    "1. In Neo4j Desktop, start a local DBMS and install the Graph Data Science Library and APOC plugins.\n",
    "2. Move the data from this repo `cora/data/*.csv` to the database's `import` folder. You can find this under `Open/Open folder/Import` in Neo4j Desktop."
   ]
  },
  {
   "cell_type": "markdown",
   "id": "9b631e9e-fde3-48f0-8a26-699f1f1854e9",
   "metadata": {},
   "source": [
    "## 1. Load data into Neo4j"
   ]
  },
  {
   "cell_type": "code",
   "execution_count": 1,
   "id": "1964d733-6436-401c-bc0b-b18b84803d6c",
   "metadata": {},
   "outputs": [
    {
     "name": "stdin",
     "output_type": "stream",
     "text": [
      "Password: ········\n"
     ]
    }
   ],
   "source": [
    "from getpass import getpass\n",
    "from graphdatascience import GraphDataScience\n",
    "auth = (\"neo4j\", getpass(\"Password:\"))\n",
    "bolt = \"bolt://localhost:7687/neo4j\"\n",
    "gds = GraphDataScience(bolt, auth=auth)"
   ]
  },
  {
   "cell_type": "markdown",
   "id": "fded4d6c-f2a4-44bc-b1e1-06c74728f39d",
   "metadata": {},
   "source": [
    "The following cypher commands load the `csv`s into Neo4j:"
   ]
  },
  {
   "cell_type": "code",
   "execution_count": 4,
   "id": "e0a744aa-f3c0-468c-9b7e-6aeaf6ee2da2",
   "metadata": {},
   "outputs": [
    {
     "data": {
      "text/html": [
       "<div>\n",
       "<style scoped>\n",
       "    .dataframe tbody tr th:only-of-type {\n",
       "        vertical-align: middle;\n",
       "    }\n",
       "\n",
       "    .dataframe tbody tr th {\n",
       "        vertical-align: top;\n",
       "    }\n",
       "\n",
       "    .dataframe thead th {\n",
       "        text-align: right;\n",
       "    }\n",
       "</style>\n",
       "<table border=\"1\" class=\"dataframe\">\n",
       "  <thead>\n",
       "    <tr style=\"text-align: right;\">\n",
       "      <th></th>\n",
       "    </tr>\n",
       "  </thead>\n",
       "  <tbody>\n",
       "  </tbody>\n",
       "</table>\n",
       "</div>"
      ],
      "text/plain": [
       "Empty DataFrame\n",
       "Columns: []\n",
       "Index: []"
      ]
     },
     "execution_count": 4,
     "metadata": {},
     "output_type": "execute_result"
    }
   ],
   "source": [
    "gds.run_cypher(\"\"\"\n",
    "LOAD CSV WITH HEADERS FROM \"file:///nodes.csv\" AS row\n",
    "WITH toInteger(row.id) AS paperId, row.subject AS subject, row.features AS features\n",
    "MERGE (p:Paper {paper_Id: paperId})\n",
    "SET p.subject = subject, p.features = apoc.convert.fromJsonList(features)\n",
    "RETURN count(p)\n",
    "\"\"\")\n",
    "\n",
    "gds.run_cypher(\"\"\"\n",
    "LOAD CSV WITH HEADERS FROM \"file:///edges.csv\" AS row\n",
    "MATCH(source: Paper {paper_Id: toInteger(row.source)})\n",
    "MATCH(target: Paper {paper_Id: toInteger(row.target)})\n",
    "MERGE (source)-[r:CITES]->(target)\n",
    "\"\"\")"
   ]
  },
  {
   "cell_type": "markdown",
   "id": "58a17816-1beb-46df-b76a-a7aea627053c",
   "metadata": {},
   "source": [
    "Tabular data model"
   ]
  },
  {
   "cell_type": "code",
   "execution_count": null,
   "id": "eb762d6c-b303-4ea2-a6b6-1a1cdf1f6158",
   "metadata": {},
   "outputs": [],
   "source": [
    "import pandas as pd\n",
    "..."
   ]
  },
  {
   "cell_type": "markdown",
   "id": "4715e795-ef4d-4977-b828-0a6ed865e412",
   "metadata": {},
   "source": [
    "Demo: visualise graph using cypher queries in Neo4j Browser, such as\n",
    "\n",
    "`MATCH (p:Paper) -[:CITES]-> (q:Paper) RETURN p,q LIMIT 20`"
   ]
  },
  {
   "cell_type": "markdown",
   "id": "2b4450e6-f017-4c1b-bec6-a188cea4a6fd",
   "metadata": {},
   "source": [
    "## 2. Preprocess\n",
    "\n",
    "Firstly make categorical label from subject:"
   ]
  },
  {
   "cell_type": "code",
   "execution_count": 10,
   "id": "b6404a65-6993-4fc4-b3a5-eab751bea739",
   "metadata": {},
   "outputs": [
    {
     "data": {
      "text/html": [
       "<div>\n",
       "<style scoped>\n",
       "    .dataframe tbody tr th:only-of-type {\n",
       "        vertical-align: middle;\n",
       "    }\n",
       "\n",
       "    .dataframe tbody tr th {\n",
       "        vertical-align: top;\n",
       "    }\n",
       "\n",
       "    .dataframe thead th {\n",
       "        text-align: right;\n",
       "    }\n",
       "</style>\n",
       "<table border=\"1\" class=\"dataframe\">\n",
       "  <thead>\n",
       "    <tr style=\"text-align: right;\">\n",
       "      <th></th>\n",
       "    </tr>\n",
       "  </thead>\n",
       "  <tbody>\n",
       "  </tbody>\n",
       "</table>\n",
       "</div>"
      ],
      "text/plain": [
       "Empty DataFrame\n",
       "Columns: []\n",
       "Index: []"
      ]
     },
     "execution_count": 10,
     "metadata": {},
     "output_type": "execute_result"
    }
   ],
   "source": [
    "gds.run_cypher(\"\"\"\n",
    "MATCH (p:Paper)\n",
    "SET p.subjectClass = {\n",
    "    Neural_Networks: 0, Rule_Learning: 1, Reinforcement_Learning: 2, Probabilistic_Methods: 3, Theory: 4, Genetic_Algorithms: 5, Case_Based: 6\n",
    "}[p.subject];\n",
    "\"\"\")"
   ]
  },
  {
   "cell_type": "markdown",
   "id": "99018c74-3b33-4e36-aeb6-9e34bf3f4d54",
   "metadata": {},
   "source": [
    "## 3. EDA"
   ]
  },
  {
   "cell_type": "code",
   "execution_count": 11,
   "id": "42203db4-94e9-436b-8489-0ebf4cb756f8",
   "metadata": {},
   "outputs": [],
   "source": [
    "import pandas as pd"
   ]
  },
  {
   "cell_type": "code",
   "execution_count": 17,
   "id": "2a19153f-59d3-4584-883d-ba341f2766f1",
   "metadata": {},
   "outputs": [],
   "source": [
    "nodes = pd.read_csv(\"data/nodes.csv\", index_col=0)"
   ]
  },
  {
   "cell_type": "markdown",
   "id": "2c1b37c1-3051-4406-b8ac-432a69616243",
   "metadata": {},
   "source": [
    "Size of classes"
   ]
  },
  {
   "cell_type": "code",
   "execution_count": 21,
   "id": "db57b1d3-e38b-4b17-b478-0d5cf579c8ee",
   "metadata": {},
   "outputs": [
    {
     "data": {
      "text/plain": [
       "<AxesSubplot: >"
      ]
     },
     "execution_count": 21,
     "metadata": {},
     "output_type": "execute_result"
    },
    {
     "data": {
      "image/png": "[encoded data removed]",
      "text/plain": [
       "<Figure size 640x480 with 1 Axes>"
      ]
     },
     "metadata": {},
     "output_type": "display_data"
    }
   ],
   "source": [
    "nodes[\"subject\"].value_counts().plot.bar()"
   ]
  },
  {
   "cell_type": "code",
   "execution_count": null,
   "id": "97044d0f-97e8-47a1-87ad-79d188b97d07",
   "metadata": {},
   "outputs": [],
   "source": []
  }
 ],
 "metadata": {
  "kernelspec": {
   "display_name": "Python 3 (ipykernel)",
   "language": "python",
   "name": "python3"
  },
  "language_info": {
   "codemirror_mode": {
    "name": "ipython",
    "version": 3
   },
   "file_extension": ".py",
   "mimetype": "text/x-python",
   "name": "python",
   "nbconvert_exporter": "python",
   "pygments_lexer": "ipython3",
   "version": "3.10.9"
  }
 },
 "nbformat": 4,
 "nbformat_minor": 5
}
