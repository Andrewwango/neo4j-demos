{
 "cells": [
  {
   "cell_type": "markdown",
   "id": "2205a03f-5861-4079-8296-51e0e4dfac15",
   "metadata": {},
   "source": [
    "# CORA dataset 03 - graph classification\n",
    "\n",
    "### Feature selection\n",
    "We now can use the citations feature since they are modelled by a graph data format. We can leverage this data model to extract useful information about the data.\n",
    "\n",
    "We create spatial features (\"embeddings\") for each data point based on their position in the graph. These features can be used for classification. \n",
    "\n",
    "We create the embeddings using the [FastRP](https://neo4j.com/docs/graph-data-science/current/machine-learning/node-embeddings/fastrp/) algorithm.\n",
    "\n",
    "Both FastRP and the downstream classification are statistical techniques and are analogous to simple NLP techniques. We don't touch on GNNs here (analogous to transformers for text, see [here](https://graphdeeplearning.github.io/post/transformers-are-gnns/) for interesting commentary)."
   ]
  },
  {
   "cell_type": "markdown",
   "id": "555a3920-3298-40bf-bec2-1e34502520cd",
   "metadata": {},
   "source": [
    "## 0. Preliminaries\n",
    "\n",
    "Run [01 - EDA](01%20-%20EDA.ipynb) notebook first to import dataset.\n",
    "\n",
    "## 1. Project graph natively into memory"
   ]
  },
  {
   "cell_type": "code",
   "execution_count": 1,
   "id": "0b57614a-45ac-489d-9d2d-941cc6e7ad63",
   "metadata": {},
   "outputs": [
    {
     "name": "stdin",
     "output_type": "stream",
     "text": [
      "Password: ········\n"
     ]
    }
   ],
   "source": [
    "from getpass import getpass\n",
    "from graphdatascience import GraphDataScience\n",
    "auth = (\"neo4j\", getpass(\"Password:\"))\n",
    "bolt = \"bolt://localhost:7687/neo4j\"\n",
    "gds = GraphDataScience(bolt, auth=auth)"
   ]
  },
  {
   "cell_type": "code",
   "execution_count": 2,
   "id": "faf549ef-3786-4398-9576-dbeb75d0a936",
   "metadata": {},
   "outputs": [
    {
     "data": {
      "application/vnd.jupyter.widget-view+json": {
       "model_id": "f4830621aaeb447d82062a91a0b6fc12",
       "version_major": 2,
       "version_minor": 0
      },
      "text/plain": [
       "Loading:   0%|          | 0/100 [00:00<?, ?%/s]"
      ]
     },
     "metadata": {},
     "output_type": "display_data"
    }
   ],
   "source": [
    "G, res = gds.graph.project(\n",
    "   \"cora-graph\",\n",
    "   {\"Paper\": {\"properties\": [\"subjectClass\"]} },\n",
    "   {\"CITES\": {\"orientation\": \"UNDIRECTED\", \"aggregation\": \"SINGLE\"}}\n",
    ")"
   ]
  },
  {
   "cell_type": "code",
   "execution_count": 5,
   "id": "75d9d496-5a33-44f7-8d21-97826b12bdd0",
   "metadata": {},
   "outputs": [
    {
     "data": {
      "text/plain": [
       "'901 KiB'"
      ]
     },
     "execution_count": 5,
     "metadata": {},
     "output_type": "execute_result"
    }
   ],
   "source": [
    "G.memory_usage()"
   ]
  },
  {
   "cell_type": "markdown",
   "id": "b93d32d2-82c6-4735-9dce-e75113f94d32",
   "metadata": {},
   "source": [
    "## 2. Create node embedding vectors\n",
    "We select embedding vector dim = 128."
   ]
  },
  {
   "cell_type": "code",
   "execution_count": 7,
   "id": "812a5535-8b6a-4d27-b881-a62f6c2b6f87",
   "metadata": {},
   "outputs": [],
   "source": [
    "result = gds.fastRP.mutate(\n",
    "   G,\n",
    "   featureProperties=None,\n",
    "   embeddingDimension=128,\n",
    "   iterationWeights=[0, 0, 1.0, 1.0],\n",
    "   normalizationStrength=0.05,\n",
    "   mutateProperty=\"fastRP_Extended_Embedding\"\n",
    ")"
   ]
  },
  {
   "cell_type": "markdown",
   "id": "875da8cb-39f6-4c69-825b-6747210a790a",
   "metadata": {},
   "source": [
    "## 3. Train a Random Forest classifier"
   ]
  },
  {
   "cell_type": "markdown",
   "id": "80647353-191b-451d-b26f-07f048f9b6cf",
   "metadata": {},
   "source": [
    "**Note** GDS offers complete ML pipelines for data splitting, training classification models, hyperparameter tuning and inferencing. This is advantageous as it H acts directly on embeddings which are stored in the in-memory graph, reducing need to move data. However here we export the embeddings and demonstrate using `scikit-learn` for familiarity."
   ]
  },
  {
   "cell_type": "code",
   "execution_count": 15,
   "id": "d4da9524-e3de-4f53-a24b-b176fd588203",
   "metadata": {},
   "outputs": [],
   "source": [
    "import pandas as pd\n",
    "import numpy as np\n",
    "from sklearn.model_selection import train_test_split\n",
    "from hpsklearn import HyperoptEstimator, random_forest_classifier"
   ]
  },
  {
   "cell_type": "code",
   "execution_count": 47,
   "id": "3d31294d-9071-4091-99a1-1af30ec2135f",
   "metadata": {},
   "outputs": [],
   "source": [
    "X = gds.graph.streamNodeProperty(G, 'fastRP_Extended_Embedding')[\"propertyValue\"].apply(pd.Series)"
   ]
  },
  {
   "cell_type": "code",
   "execution_count": 49,
   "id": "a8da3af6-838e-4952-b574-1b2f08a8097d",
   "metadata": {},
   "outputs": [],
   "source": [
    "y = gds.graph.streamNodeProperty(G, 'subjectClass')[\"propertyValue\"]"
   ]
  },
  {
   "cell_type": "code",
   "execution_count": 50,
   "id": "cd963db9-63ce-46a8-a01a-52e1aeb6a62e",
   "metadata": {},
   "outputs": [],
   "source": [
    "X_train, X_test, y_train, y_test = train_test_split(X, y, random_state=0)"
   ]
  },
  {
   "cell_type": "code",
   "execution_count": 67,
   "id": "be40c0ed-9251-4ce4-9334-b0030c464962",
   "metadata": {},
   "outputs": [],
   "source": [
    "\n",
    "clf = HyperoptEstimator(classifier=random_forest_classifier(\"myclf\"), trial_timeout=10)"
   ]
  },
  {
   "cell_type": "code",
   "execution_count": 68,
   "id": "c249baa8-2819-46c1-8a13-f091923660df",
   "metadata": {},
   "outputs": [
    {
     "name": "stdout",
     "output_type": "stream",
     "text": [
      "100%|█████████████| 1/1 [00:02<00:00,  2.80s/trial, best loss: 0.6953316953316953]\n",
      "100%|█████████████| 2/2 [00:11<00:00, 11.60s/trial, best loss: 0.6953316953316953]\n",
      "100%|█████████████| 3/3 [00:11<00:00, 11.50s/trial, best loss: 0.6953316953316953]\n",
      "100%|████████████| 4/4 [00:03<00:00,  3.22s/trial, best loss: 0.18918918918918914]\n",
      "100%|████████████| 5/5 [00:07<00:00,  7.66s/trial, best loss: 0.18918918918918914]\n",
      "100%|████████████| 6/6 [00:03<00:00,  3.90s/trial, best loss: 0.18918918918918914]\n",
      "100%|████████████| 7/7 [00:11<00:00, 11.61s/trial, best loss: 0.18918918918918914]\n",
      "100%|████████████| 8/8 [00:09<00:00,  9.65s/trial, best loss: 0.18918918918918914]\n",
      "100%|████████████| 9/9 [00:11<00:00, 11.60s/trial, best loss: 0.18918918918918914]\n",
      "100%|██████████| 10/10 [00:06<00:00,  6.83s/trial, best loss: 0.18918918918918914]\n"
     ]
    }
   ],
   "source": [
    "clf.fit(X_train, y_train)"
   ]
  },
  {
   "cell_type": "code",
   "execution_count": 69,
   "id": "55e318c8-94c4-4d90-aa7c-87051b7ceca9",
   "metadata": {},
   "outputs": [
    {
     "data": {
      "text/plain": [
       "0.8301329394387001"
      ]
     },
     "execution_count": 69,
     "metadata": {},
     "output_type": "execute_result"
    }
   ],
   "source": [
    "clf.score(X_test, y_test)"
   ]
  },
  {
   "cell_type": "code",
   "execution_count": null,
   "id": "97f3aa4d-249a-4d1d-9983-91646e811560",
   "metadata": {},
   "outputs": [],
   "source": []
  }
 ],
 "metadata": {
  "kernelspec": {
   "display_name": "Python 3 (ipykernel)",
   "language": "python",
   "name": "python3"
  },
  "language_info": {
   "codemirror_mode": {
    "name": "ipython",
    "version": 3
   },
   "file_extension": ".py",
   "mimetype": "text/x-python",
   "name": "python",
   "nbconvert_exporter": "python",
   "pygments_lexer": "ipython3",
   "version": "3.10.9"
  }
 },
 "nbformat": 4,
 "nbformat_minor": 5
}
